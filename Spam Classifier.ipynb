{
 "cells": [
  {
   "cell_type": "markdown",
   "metadata": {},
   "source": [
    "## Stuff I need\n",
    "- emailSample1.txt\n",
    "- spamTrain.mat\n",
    "- spamTest.mat\n",
    "- vocab.txt\n",
    "- spamSample1.txt to make own samples if want to"
   ]
  },
  {
   "cell_type": "markdown",
   "metadata": {},
   "source": [
    "## Todo:\n",
    "- preprocess the email (make separate file processEmail.py)\n",
    "- extract features from each email \n",
    "- train SVM classifier on the training set, see training accuracy \n",
    "- evaluate classifier on test set, compare accuracy \n",
    "- if time, download files from http://spamassassin.apache.org/old/publiccorpus/"
   ]
  },
  {
   "cell_type": "code",
   "execution_count": 2,
   "metadata": {},
   "outputs": [],
   "source": [
    "# Setup environment\n",
    "import scipy.io\n",
    "import matplotlib.pyplot as plt \n",
    "import matplotlib\n",
    "import pandas as pd\n",
    "import numpy as np\n",
    "\n",
    "%matplotlib inline"
   ]
  },
  {
   "cell_type": "code",
   "execution_count": 33,
   "metadata": {},
   "outputs": [
    {
     "data": {
      "text/plain": [
       "'ADSFADF'"
      ]
     },
     "execution_count": 33,
     "metadata": {},
     "output_type": "execute_result"
    }
   ],
   "source": [
    "from scipy.io import loadmat\n",
    "spamTrain = loadmat('spamTrain.mat')\n",
    "spamTest = loadmat('spamTest.mat')\n",
    "\n",
    "f = open('vocab.txt', \"r\")\n",
    "\n",
    "x = f.read()\n",
    "temp = x.split()\n",
    "dict = {}\n",
    "\n",
    "a = 'ADSFADF'\n",
    "a.lower()\n",
    "a\n",
    "    "
   ]
  },
  {
   "cell_type": "code",
   "execution_count": 36,
   "metadata": {},
   "outputs": [
    {
     "data": {
      "text/plain": [
       "'You should checkout html://www.rackspace.com/'"
      ]
     },
     "execution_count": 36,
     "metadata": {},
     "output_type": "execute_result"
    }
   ],
   "source": [
    "import re\n",
    "\n",
    "a = 'You should checkout http://www.rackspace.com/'\n",
    "re.sub(r\"http\", \"html\", a)"
   ]
  },
  {
   "cell_type": "code",
   "execution_count": 43,
   "metadata": {},
   "outputs": [
    {
     "data": {
      "text/plain": [
       "['program', 'program', 'with', 'program', 'languag']"
      ]
     },
     "execution_count": 43,
     "metadata": {},
     "output_type": "execute_result"
    }
   ],
   "source": [
    "from nltk.stem import PorterStemmer \n",
    "from nltk.tokenize import word_tokenize \n",
    "   \n",
    "ps = PorterStemmer() \n",
    "   \n",
    "sentence = \"Programers program with programing languages\"\n",
    "x = sentence.split()\n",
    "[ps.stem(word) for word in x]\n",
    "   "
   ]
  },
  {
   "cell_type": "code",
   "execution_count": 48,
   "metadata": {},
   "outputs": [
    {
     "ename": "IndentationError",
     "evalue": "unexpected indent (<ipython-input-48-50eca0d72538>, line 2)",
     "output_type": "error",
     "traceback": [
      "\u001b[0;36m  File \u001b[0;32m\"<ipython-input-48-50eca0d72538>\"\u001b[0;36m, line \u001b[0;32m2\u001b[0m\n\u001b[0;31m    contents = f.read()\u001b[0m\n\u001b[0m    ^\u001b[0m\n\u001b[0;31mIndentationError\u001b[0m\u001b[0;31m:\u001b[0m unexpected indent\n"
     ]
    }
   ],
   "source": [
    "f = open('vocab.txt', \"r\")\n",
    "    contents = f.read()\n",
    "    str = contents.split()\n",
    "    vocabList = {}\n",
    "\n",
    "    for i in np.arange(0, len(str), 2):\n",
    "        vocabList[str[i + 1]] = str[i]\n",
    "vocabList"
   ]
  },
  {
   "cell_type": "code",
   "execution_count": null,
   "metadata": {},
   "outputs": [],
   "source": []
  }
 ],
 "metadata": {
  "kernelspec": {
   "display_name": "Python 3",
   "language": "python",
   "name": "python3"
  },
  "language_info": {
   "codemirror_mode": {
    "name": "ipython",
    "version": 3
   },
   "file_extension": ".py",
   "mimetype": "text/x-python",
   "name": "python",
   "nbconvert_exporter": "python",
   "pygments_lexer": "ipython3",
   "version": "3.7.4"
  }
 },
 "nbformat": 4,
 "nbformat_minor": 2
}
