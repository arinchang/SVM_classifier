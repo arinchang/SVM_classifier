{
 "cells": [
  {
   "cell_type": "markdown",
   "metadata": {},
   "source": [
    "# SVM On 3 Data Sets"
   ]
  },
  {
   "cell_type": "markdown",
   "metadata": {},
   "source": [
    "### In this notebook I will need to:\n",
    "- load the .mat files with scipy.io\n",
    "- normalize data\n",
    "- visualize SVM with linear kernel and then Gaussian Kernel\n",
    "- find the best C and sigma with GridSearchCV\n"
   ]
  },
  {
   "cell_type": "code",
   "execution_count": 11,
   "metadata": {},
   "outputs": [],
   "source": [
    "# Setup environment\n",
    "import scipy.io\n",
    "import matplotlib.pyplot as plt \n",
    "import matplotlib\n",
    "import pandas as pd\n",
    "import numpy as np"
   ]
  },
  {
   "cell_type": "code",
   "execution_count": 43,
   "metadata": {},
   "outputs": [],
   "source": [
    "# read in data sets \n",
    "from scipy.io import loadmat\n",
    "data1 = loadmat('ex6data1.mat')\n",
    "data2 = loadmat('ex6data2.mat')\n",
    "data3 = loadmat('ex6data3.mat')\n",
    "\n",
    "X1, y1 = data1['X'], data1['y']\n",
    "X2, y2 = data2['X'], data2['y']\n",
    "X3, y3 = data3['X'], data3['y']\n",
    "X = [X1, X2, X3]\n",
    "y = [y1, y2, y3]"
   ]
  },
  {
   "cell_type": "code",
   "execution_count": 44,
   "metadata": {},
   "outputs": [],
   "source": [
    "# normalize features\n",
    "from sklearn.preprocessing import normalize \n",
    "\n",
    "for i in np.arange(0, 3):\n",
    "    X[i] = normalize(X[i])\n",
    "    y[i] = normalize(y[i])\n",
    "    \n",
    "X1, X2, X3 = X\n",
    "y1, y2, y3 = y"
   ]
  },
  {
   "cell_type": "code",
   "execution_count": 45,
   "metadata": {},
   "outputs": [],
   "source": [
    "# Visualize 3 data sets"
   ]
  },
  {
   "cell_type": "code",
   "execution_count": null,
   "metadata": {},
   "outputs": [],
   "source": []
  }
 ],
 "metadata": {
  "kernelspec": {
   "display_name": "Python 3",
   "language": "python",
   "name": "python3"
  },
  "language_info": {
   "codemirror_mode": {
    "name": "ipython",
    "version": 3
   },
   "file_extension": ".py",
   "mimetype": "text/x-python",
   "name": "python",
   "nbconvert_exporter": "python",
   "pygments_lexer": "ipython3",
   "version": "3.7.4"
  }
 },
 "nbformat": 4,
 "nbformat_minor": 2
}
