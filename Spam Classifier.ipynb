{
 "cells": [
  {
   "cell_type": "markdown",
   "metadata": {},
   "source": [
    "## Stuff I need\n",
    "- emailSample1.txt\n",
    "- spamTrain.mat\n",
    "- spamTest.mat\n",
    "- vocab.txt\n",
    "- spamSample1.txt to make own samples if want to"
   ]
  },
  {
   "cell_type": "markdown",
   "metadata": {},
   "source": [
    "## Todo:\n",
    "- preprocess the email (make separate file processEmail.py)\n",
    "- extract features from each email \n",
    "- train SVM classifier on the training set, see training accuracy \n",
    "- evaluate classifier on test set, compare accuracy \n",
    "- if time, download files from http://spamassassin.apache.org/old/publiccorpus/"
   ]
  },
  {
   "cell_type": "code",
   "execution_count": 2,
   "metadata": {},
   "outputs": [],
   "source": [
    "# Setup environment\n",
    "import scipy.io\n",
    "import matplotlib.pyplot as plt \n",
    "import matplotlib\n",
    "import pandas as pd\n",
    "import numpy as np\n",
    "\n",
    "%matplotlib inline"
   ]
  },
  {
   "cell_type": "code",
   "execution_count": 31,
   "metadata": {},
   "outputs": [
    {
     "ename": "SyntaxError",
     "evalue": "invalid syntax (<ipython-input-31-7f6101d15a01>, line 15)",
     "output_type": "error",
     "traceback": [
      "\u001b[0;36m  File \u001b[0;32m\"<ipython-input-31-7f6101d15a01>\"\u001b[0;36m, line \u001b[0;32m15\u001b[0m\n\u001b[0;31m    [dict[temp[i]] = temp[i + 1] for i in np.arange(0, len(temp), 2)]\u001b[0m\n\u001b[0m                   ^\u001b[0m\n\u001b[0;31mSyntaxError\u001b[0m\u001b[0;31m:\u001b[0m invalid syntax\n"
     ]
    }
   ],
   "source": [
    "from scipy.io import loadmat\n",
    "spamTrain = loadmat('spamTrain.mat')\n",
    "spamTest = loadmat('spamTest.mat')\n",
    "\n",
    "f = open('vocab.txt', \"r\")\n",
    "\n",
    "x = f.read()\n",
    "temp = x.split()\n",
    "dict = {}\n",
    "\n",
    "\n",
    "    "
   ]
  },
  {
   "cell_type": "code",
   "execution_count": null,
   "metadata": {},
   "outputs": [],
   "source": []
  }
 ],
 "metadata": {
  "kernelspec": {
   "display_name": "Python 3",
   "language": "python",
   "name": "python3"
  },
  "language_info": {
   "codemirror_mode": {
    "name": "ipython",
    "version": 3
   },
   "file_extension": ".py",
   "mimetype": "text/x-python",
   "name": "python",
   "nbconvert_exporter": "python",
   "pygments_lexer": "ipython3",
   "version": "3.7.4"
  }
 },
 "nbformat": 4,
 "nbformat_minor": 2
}
